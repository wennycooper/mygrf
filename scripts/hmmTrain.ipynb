{
 "cells": [
  {
   "cell_type": "code",
   "execution_count": 1,
   "metadata": {
    "collapsed": true
   },
   "outputs": [],
   "source": [
    "from sklearn.cluster import KMeans"
   ]
  },
  {
   "cell_type": "code",
   "execution_count": 2,
   "metadata": {
    "collapsed": true
   },
   "outputs": [],
   "source": [
    "from hmmlearn import hmm"
   ]
  },
  {
   "cell_type": "code",
   "execution_count": 3,
   "metadata": {
    "collapsed": true
   },
   "outputs": [],
   "source": [
    "from hmmlearn.hmm import MultinomialHMM"
   ]
  },
  {
   "cell_type": "code",
   "execution_count": 4,
   "metadata": {
    "collapsed": true
   },
   "outputs": [],
   "source": [
    "import numpy as np"
   ]
  },
  {
   "cell_type": "code",
   "execution_count": 5,
   "metadata": {
    "collapsed": true
   },
   "outputs": [],
   "source": [
    "import pickle"
   ]
  },
  {
   "cell_type": "code",
   "execution_count": 6,
   "metadata": {
    "collapsed": true
   },
   "outputs": [],
   "source": [
    "grfKMeans = pickle.load( open( \"grfKMeans.model\", \"rb\" ) )"
   ]
  },
  {
   "cell_type": "code",
   "execution_count": 7,
   "metadata": {
    "collapsed": true
   },
   "outputs": [],
   "source": [
    "grfDataset = pickle.load( open( \"grfDataset_all\", \"rb\"))"
   ]
  },
  {
   "cell_type": "code",
   "execution_count": 8,
   "metadata": {
    "collapsed": true
   },
   "outputs": [],
   "source": [
    "#grfDataset.shape\n"
   ]
  },
  {
   "cell_type": "code",
   "execution_count": 9,
   "metadata": {
    "collapsed": true
   },
   "outputs": [],
   "source": [
    "grfKMeans.predict(grfDataset[0:60])"
   ]
  },
  {
   "cell_type": "code",
   "execution_count": 10,
   "metadata": {
    "collapsed": true
   },
   "outputs": [],
   "source": [
    "count = 0"
   ]
  },
  {
   "cell_type": "code",
   "execution_count": 11,
   "metadata": {
    "collapsed": true
   },
   "outputs": [],
   "source": [
    "i = 0"
   ]
  },
  {
   "cell_type": "code",
   "execution_count": 12,
   "metadata": {
    "collapsed": true
   },
   "outputs": [],
   "source": [
    "N = 60"
   ]
  },
  {
   "cell_type": "code",
   "execution_count": 13,
   "metadata": {
    "collapsed": true
   },
   "outputs": [],
   "source": [
    "l = 0"
   ]
  },
  {
   "cell_type": "code",
   "execution_count": 14,
   "metadata": {
    "collapsed": true
   },
   "outputs": [],
   "source": [
    "seqList = []"
   ]
  },
  {
   "cell_type": "code",
   "execution_count": 15,
   "metadata": {
    "collapsed": true
   },
   "outputs": [],
   "source": [
    "seqLengths = []"
   ]
  },
  {
   "cell_type": "code",
   "execution_count": 16,
   "metadata": {
    "collapsed": true,
    "scrolled": true
   },
   "outputs": [],
   "source": [
    "while True:\n",
    "    block = grfDataset[i:i+N]\n",
    "    seq = grfKMeans.predict(block)\n",
    "    \n",
    "    for x in np.nditer(seq):\n",
    "        seqList.append([x.tolist()])\n",
    "    \n",
    "    l = len(seq)    \n",
    "    seqLengths.append(l)\n",
    "    \n",
    "    count = count + 1\n",
    "    if l != N:\n",
    "        break\n",
    "    i = i + N\n",
    "    \n",
    "        "
   ]
  },
  {
   "cell_type": "code",
   "execution_count": 17,
   "metadata": {
    "collapsed": true
   },
   "outputs": [],
   "source": [
    "seqListArray = np.concatenate([seqList])"
   ]
  },
  {
   "cell_type": "code",
   "execution_count": 18,
   "metadata": {},
   "outputs": [
    {
     "data": {
      "text/plain": [
       "(17079, 1)"
      ]
     },
     "execution_count": 18,
     "metadata": {},
     "output_type": "execute_result"
    }
   ],
   "source": [
    "seqListArray.shape"
   ]
  },
  {
   "cell_type": "code",
   "execution_count": 19,
   "metadata": {
    "collapsed": true
   },
   "outputs": [],
   "source": [
    "unique, counts = np.unique(seqListArray, return_counts=True)"
   ]
  },
  {
   "cell_type": "code",
   "execution_count": 20,
   "metadata": {},
   "outputs": [
    {
     "data": {
      "text/plain": [
       "{0: 524,\n",
       " 1: 196,\n",
       " 2: 187,\n",
       " 3: 289,\n",
       " 4: 238,\n",
       " 5: 881,\n",
       " 6: 311,\n",
       " 7: 302,\n",
       " 8: 952,\n",
       " 9: 394,\n",
       " 10: 142,\n",
       " 11: 231,\n",
       " 12: 161,\n",
       " 13: 134,\n",
       " 14: 86,\n",
       " 15: 244,\n",
       " 16: 230,\n",
       " 17: 225,\n",
       " 18: 136,\n",
       " 19: 161,\n",
       " 20: 119,\n",
       " 21: 227,\n",
       " 22: 660,\n",
       " 23: 177,\n",
       " 24: 213,\n",
       " 25: 210,\n",
       " 26: 175,\n",
       " 27: 45,\n",
       " 28: 215,\n",
       " 29: 246,\n",
       " 30: 167,\n",
       " 31: 209,\n",
       " 32: 215,\n",
       " 33: 217,\n",
       " 34: 1214,\n",
       " 35: 234,\n",
       " 36: 37,\n",
       " 37: 234,\n",
       " 38: 248,\n",
       " 39: 232,\n",
       " 40: 255,\n",
       " 41: 245,\n",
       " 42: 310,\n",
       " 43: 191,\n",
       " 44: 235,\n",
       " 45: 157,\n",
       " 46: 352,\n",
       " 47: 186,\n",
       " 48: 286,\n",
       " 49: 171,\n",
       " 50: 230,\n",
       " 51: 50,\n",
       " 52: 116,\n",
       " 53: 24,\n",
       " 54: 56,\n",
       " 55: 236,\n",
       " 56: 148,\n",
       " 57: 363,\n",
       " 58: 210,\n",
       " 59: 79,\n",
       " 60: 169,\n",
       " 61: 158,\n",
       " 62: 656,\n",
       " 63: 878}"
      ]
     },
     "execution_count": 20,
     "metadata": {},
     "output_type": "execute_result"
    }
   ],
   "source": [
    "dict(zip(unique, counts))"
   ]
  },
  {
   "cell_type": "code",
   "execution_count": null,
   "metadata": {
    "collapsed": true
   },
   "outputs": [],
   "source": [
    "hmmModel1 = hmm.MultinomialHMM(n_components=5, n_iter=100)"
   ]
  },
  {
   "cell_type": "code",
   "execution_count": null,
   "metadata": {
    "collapsed": true
   },
   "outputs": [],
   "source": [
    "hmmModel1.fit(seqListArray, seqLengths)"
   ]
  },
  {
   "cell_type": "markdown",
   "metadata": {
    "collapsed": true
   },
   "source": [
    "參考: \n",
    "http://hmmlearn.readthedocs.io/en/latest/tutorial.html\n",
    "http://hmmlearn.readthedocs.io/en/latest/api.html#hmmlearn.hmm.MultinomialHMM\n",
    "https://github.com/hmmlearn/hmmlearn/issues/124\n",
    "\n"
   ]
  },
  {
   "cell_type": "code",
   "execution_count": null,
   "metadata": {
    "collapsed": true
   },
   "outputs": [],
   "source": []
  }
 ],
 "metadata": {
  "kernelspec": {
   "display_name": "Python [conda env:rospy]",
   "language": "python",
   "name": "conda-env-rospy-py"
  },
  "language_info": {
   "codemirror_mode": {
    "name": "ipython",
    "version": 2
   },
   "file_extension": ".py",
   "mimetype": "text/x-python",
   "name": "python",
   "nbconvert_exporter": "python",
   "pygments_lexer": "ipython2",
   "version": "2.7.6"
  }
 },
 "nbformat": 4,
 "nbformat_minor": 2
}
